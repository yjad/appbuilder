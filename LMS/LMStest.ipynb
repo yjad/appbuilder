{
 "cells": [
  {
   "cell_type": "code",
   "execution_count": 16,
   "metadata": {},
   "outputs": [],
   "source": [
    "from datetime import datetime\n",
    "# import pandas as pd\n",
    "# import logging\n",
    "# import random\n",
    "\n",
    "import app\n",
    "from app import appbuilder, db\n",
    "from app.models import Enrollments, Courses\n",
    "\n",
    "# log = logging.getLogger(__name__)"
   ]
  },
  {
   "cell_type": "code",
   "execution_count": 11,
   "metadata": {},
   "outputs": [
    {
     "name": "stdout",
     "output_type": "stream",
     "text": [
      "{'_sa_instance_state': <sqlalchemy.orm.state.InstanceState object at 0x000001D113F74910>, 'abstract': 'abstract', 'course_id': 'MATH101', 'course_description': 'Math 101 for seconday schools', 'category_id': '1', 'bibliography': 'Bibliograph'}\n",
      "{'_sa_instance_state': <sqlalchemy.orm.state.InstanceState object at 0x000001D113F2F950>, 'abstract': 'abstract', 'course_id': 'MATH102', 'course_description': 'Intermediate Math for secondary school', 'category_id': '1', 'bibliography': 'BB'}\n",
      "{'_sa_instance_state': <sqlalchemy.orm.state.InstanceState object at 0x000001D113F2E490>, 'abstract': 'MAth 103', 'course_id': 'MATH103', 'course_description': 'MAth 103', 'category_id': '1', 'bibliography': 'MATH 103'}\n"
     ]
    }
   ],
   "source": [
    "for c in db.session.query(Courses).filter(Courses.category_id ==1).all():\n",
    "    print (vars(c))\n"
   ]
  },
  {
   "cell_type": "code",
   "execution_count": 19,
   "metadata": {},
   "outputs": [
    {
     "name": "stdout",
     "output_type": "stream",
     "text": [
      "{'_sa_instance_state': <sqlalchemy.orm.state.InstanceState object at 0x000001D113545950>, 'course_id': 'MATH101', 'enrollment_date': datetime.date(2024, 2, 7), 'cancellation_reason': None, 'cycle_id': '1', 'student_id': '1', 'cancelled': False}\n",
      "MATH101-Math 101 for seconday schools\n",
      "{'_sa_instance_state': <sqlalchemy.orm.state.InstanceState object at 0x000001D1135D1150>, 'course_id': 'PHY101', 'enrollment_date': datetime.date(2024, 2, 7), 'cancellation_reason': None, 'cycle_id': '1', 'student_id': '1', 'cancelled': False}\n",
      "PHY101-Physics 101 for Secondary\n",
      "{'_sa_instance_state': <sqlalchemy.orm.state.InstanceState object at 0x000001D1135D7950>, 'course_id': 'MATH102', 'enrollment_date': datetime.date(2024, 2, 7), 'cancellation_reason': None, 'cycle_id': '1', 'student_id': '2', 'cancelled': False}\n",
      "MATH102-Intermediate Math for secondary school\n",
      "{'_sa_instance_state': <sqlalchemy.orm.state.InstanceState object at 0x000001D1135D6D90>, 'course_id': 'PHY101', 'enrollment_date': datetime.date(2024, 2, 7), 'cancellation_reason': None, 'cycle_id': '1', 'student_id': '2', 'cancelled': False}\n",
      "PHY101-Physics 101 for Secondary\n",
      "{'_sa_instance_state': <sqlalchemy.orm.state.InstanceState object at 0x000001D113F26310>, 'course_id': 'MATH101', 'enrollment_date': datetime.date(2024, 2, 7), 'cancellation_reason': None, 'cycle_id': '1', 'student_id': '3', 'cancelled': False, 'courses': MATH101-Math 101 for seconday schools}\n",
      "MATH101-Math 101 for seconday schools\n"
     ]
    }
   ],
   "source": [
    "for s in db.session.query(Enrollments): #    .filter(Enrollments.courses.category_id ==1).all():\n",
    "    # print (s.id, s.name_en)\n",
    "    print (vars(s))\n",
    "    print (s.courses)\n"
   ]
  },
  {
   "cell_type": "code",
   "execution_count": 15,
   "metadata": {},
   "outputs": [
    {
     "data": {
      "text/plain": [
       "{'_sa_instance_state': <sqlalchemy.orm.state.InstanceState at 0x2309ba35e90>,\n",
       " 'cycle_id': '1',\n",
       " 'student_id': '1',\n",
       " 'enrollment_date': datetime.date(2024, 2, 7),\n",
       " 'cancellation_reason': None,\n",
       " 'course_id': 'MATH101',\n",
       " 'cancelled': False,\n",
       " 'courses': MATH101-Math 101 for seconday schools}"
      ]
     },
     "execution_count": 15,
     "metadata": {},
     "output_type": "execute_result"
    }
   ],
   "source": [
    "x=db.session.query(Enrollments).first()\n",
    "vars(x)\n"
   ]
  },
  {
   "cell_type": "code",
   "execution_count": null,
   "metadata": {},
   "outputs": [],
   "source": [
    "for s in db.session.query(Student).all():\n",
    "    print (s.id, s.name_en, s.status)"
   ]
  },
  {
   "cell_type": "code",
   "execution_count": null,
   "metadata": {},
   "outputs": [],
   "source": [
    "for s in db.session.query(StudentSemester).all():\n",
    "    print (s.student_id, s.student_name)\n",
    "    print(s.student_id, s.student_level.level_id)\n",
    "    # for l in s.student_level:\n",
    "        # print (l )"
   ]
  },
  {
   "cell_type": "code",
   "execution_count": null,
   "metadata": {},
   "outputs": [],
   "source": [
    "for s in db.session.query(StudentLevel).all():\n",
    "    print (s.student_name, '\\n', s.student_id, s.level, s.level_id )\n"
   ]
  },
  {
   "cell_type": "code",
   "execution_count": null,
   "metadata": {},
   "outputs": [],
   "source": [
    "import mimetypes\n",
    "mimetypes.init()\n",
    "mimetypes.knownfiles\n",
    "# return mimtype of a given file type\n",
    "mimetypes.types_map['.txt']"
   ]
  },
  {
   "cell_type": "code",
   "execution_count": null,
   "metadata": {},
   "outputs": [],
   "source": [
    "class X:\n",
    "    a=10\n",
    "    b=20\n",
    "\n",
    "\n",
    "print (vars(X))\n",
    "\n",
    "# for a in vars(X):\n",
    "#     print (a, a.value())\n",
    "\n",
    "d = X.__dict__\n",
    "for k, v in d.items():\n",
    "    if not k.startswith('_'):\n",
    "        print (k, 'value:',v)\n",
    "\n",
    "for k, v in X.__dict__.items():\n",
    "    if not k.startswith('_'):\n",
    "        print (f\"\\nfield:{k}, value: {v}\")"
   ]
  },
  {
   "cell_type": "code",
   "execution_count": null,
   "metadata": {},
   "outputs": [],
   "source": []
  }
 ],
 "metadata": {
  "kernelspec": {
   "display_name": "venv",
   "language": "python",
   "name": "python3"
  },
  "language_info": {
   "codemirror_mode": {
    "name": "ipython",
    "version": 3
   },
   "file_extension": ".py",
   "mimetype": "text/x-python",
   "name": "python",
   "nbconvert_exporter": "python",
   "pygments_lexer": "ipython3",
   "version": "3.11.5"
  }
 },
 "nbformat": 4,
 "nbformat_minor": 2
}
