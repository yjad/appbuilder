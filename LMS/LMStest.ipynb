{
 "cells": [
  {
   "cell_type": "code",
   "execution_count": null,
   "metadata": {},
   "outputs": [],
   "source": [
    "from datetime import datetime\n",
    "# import pandas as pd\n",
    "# import logging\n",
    "# import random\n",
    "\n",
    "# import app\n",
    "from app import db\n",
    "from app.models import Enrollments, Courses\n",
    "\n",
    "# log = logging.getLogger(__name__)"
   ]
  },
  {
   "cell_type": "code",
   "execution_count": null,
   "metadata": {},
   "outputs": [],
   "source": [
    "db.create_all()\n",
    "\n"
   ]
  },
  {
   "cell_type": "code",
   "execution_count": null,
   "metadata": {},
   "outputs": [],
   "source": [
    "for c in db.session.query(Courses).filter(Courses.category_id ==1).all():\n",
    "    print (vars(c))\n"
   ]
  },
  {
   "cell_type": "code",
   "execution_count": null,
   "metadata": {},
   "outputs": [],
   "source": [
    "for s in db.session.query(Enrollments): #    .filter(Enrollments.courses.category_id ==1).all():\n",
    "    # print (s.id, s.name_en)\n",
    "    print (vars(s))\n",
    "    print (s.courses)\n"
   ]
  },
  {
   "cell_type": "code",
   "execution_count": null,
   "metadata": {},
   "outputs": [],
   "source": [
    "x=db.session.query(Enrollments).first()\n",
    "vars(x)\n"
   ]
  },
  {
   "cell_type": "code",
   "execution_count": null,
   "metadata": {},
   "outputs": [],
   "source": [
    "for s in db.session.query(Student).all():\n",
    "    print (s.id, s.name_en, s.status)"
   ]
  },
  {
   "cell_type": "code",
   "execution_count": null,
   "metadata": {},
   "outputs": [],
   "source": [
    "for s in db.session.query(StudentSemester).all():\n",
    "    print (s.student_id, s.student_name)\n",
    "    print(s.student_id, s.student_level.level_id)\n",
    "    # for l in s.student_level:\n",
    "        # print (l )"
   ]
  },
  {
   "cell_type": "code",
   "execution_count": null,
   "metadata": {},
   "outputs": [],
   "source": [
    "for s in db.session.query(StudentLevel).all():\n",
    "    print (s.student_name, '\\n', s.student_id, s.level, s.level_id )\n"
   ]
  },
  {
   "cell_type": "code",
   "execution_count": null,
   "metadata": {},
   "outputs": [],
   "source": [
    "import mimetypes\n",
    "mimetypes.init()\n",
    "mimetypes.knownfiles\n",
    "# return mimtype of a given file type\n",
    "mimetypes.types_map['.txt']"
   ]
  },
  {
   "cell_type": "code",
   "execution_count": null,
   "metadata": {},
   "outputs": [],
   "source": [
    "class X:\n",
    "    a=10\n",
    "    b=20\n",
    "\n",
    "\n",
    "print (vars(X))\n",
    "\n",
    "# for a in vars(X):\n",
    "#     print (a, a.value())\n",
    "\n",
    "d = X.__dict__\n",
    "for k, v in d.items():\n",
    "    if not k.startswith('_'):\n",
    "        print (k, 'value:',v)\n",
    "\n",
    "for k, v in X.__dict__.items():\n",
    "    if not k.startswith('_'):\n",
    "        print (f\"\\nfield:{k}, value: {v}\")"
   ]
  },
  {
   "cell_type": "code",
   "execution_count": null,
   "metadata": {},
   "outputs": [],
   "source": []
  }
 ],
 "metadata": {
  "kernelspec": {
   "display_name": "venv",
   "language": "python",
   "name": "python3"
  },
  "language_info": {
   "codemirror_mode": {
    "name": "ipython",
    "version": 3
   },
   "file_extension": ".py",
   "mimetype": "text/x-python",
   "name": "python",
   "nbconvert_exporter": "python",
   "pygments_lexer": "ipython3",
   "version": "3.11.4"
  }
 },
 "nbformat": 4,
 "nbformat_minor": 2
}
