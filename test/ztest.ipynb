{
 "cells": [
  {
   "cell_type": "code",
   "execution_count": 17,
   "metadata": {},
   "outputs": [],
   "source": [
    "from datetime import datetime\n",
    "# import pandas as pd\n",
    "# import logging\n",
    "# import random\n",
    "\n",
    "import app\n",
    "from app import appbuilder, db\n",
    "from app.models import Contact, ContactGroup, Gender, Country, Student, StudentSemester, StudentLevel\n",
    "\n",
    "# log = logging.getLogger(__name__)"
   ]
  },
  {
   "cell_type": "code",
   "execution_count": null,
   "metadata": {},
   "outputs": [],
   "source": [
    "for s in db.session.query(Student).all():\n",
    "    print (s.id, s.name_en)"
   ]
  },
  {
   "cell_type": "code",
   "execution_count": 13,
   "metadata": {},
   "outputs": [
    {
     "name": "stdout",
     "output_type": "stream",
     "text": [
      "1 Mahmoud Elhusseiny Active\n",
      "2 Sayed Abdel Hafeez Inactive\n",
      "3 Sameh Shahin Active\n",
      "4 Kamal Elshahat Active\n",
      "5 Mahmoud Hossam Active\n",
      "6 Samah Abdel Wadoud Active\n"
     ]
    }
   ],
   "source": [
    "for s in db.session.query(Student).all():\n",
    "    print (s.id, s.name_en, s.status)"
   ]
  },
  {
   "cell_type": "code",
   "execution_count": 19,
   "metadata": {},
   "outputs": [
    {
     "name": "stdout",
     "output_type": "stream",
     "text": [
      "1 0001-محمود الحسينى\n",
      "L1 1-0001-محمود الحسينى- Level 1\n"
     ]
    }
   ],
   "source": [
    "for s in db.session.query(StudentSemester).all():\n",
    "    print (s.student_id, s.student_name)\n",
    "    print (s.student_level_id, s.student_level)"
   ]
  },
  {
   "cell_type": "code",
   "execution_count": 22,
   "metadata": {},
   "outputs": [
    {
     "name": "stdout",
     "output_type": "stream",
     "text": [
      "0001-محمود الحسينى 1 Level 1 L1\n",
      "0001-محمود الحسينى 1 Level 2 L2\n",
      "0001-محمود الحسينى 1 Level 3 L3\n",
      "0002-سيد عبد الحفيظ 2 Level 1 L1\n",
      "0004-كمال الشحات 4 Level 3 L3\n"
     ]
    }
   ],
   "source": [
    "for s in db.session.query(StudentLevel).all():\n",
    "    print (s.student_name, s.student_id, s.level, s.level_id )\n"
   ]
  },
  {
   "cell_type": "code",
   "execution_count": null,
   "metadata": {},
   "outputs": [],
   "source": []
  }
 ],
 "metadata": {
  "kernelspec": {
   "display_name": "venv",
   "language": "python",
   "name": "python3"
  },
  "language_info": {
   "codemirror_mode": {
    "name": "ipython",
    "version": 3
   },
   "file_extension": ".py",
   "mimetype": "text/x-python",
   "name": "python",
   "nbconvert_exporter": "python",
   "pygments_lexer": "ipython3",
   "version": "3.11.5"
  }
 },
 "nbformat": 4,
 "nbformat_minor": 2
}
