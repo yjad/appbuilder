{
 "cells": [
  {
   "cell_type": "code",
   "execution_count": 1,
   "metadata": {},
   "outputs": [
    {
     "ename": "ModuleNotFoundError",
     "evalue": "No module named 'app'",
     "output_type": "error",
     "traceback": [
      "\u001b[1;31m---------------------------------------------------------------------------\u001b[0m",
      "\u001b[1;31mModuleNotFoundError\u001b[0m                       Traceback (most recent call last)",
      "Cell \u001b[1;32mIn[1], line 6\u001b[0m\n\u001b[0;32m      1\u001b[0m \u001b[38;5;28;01mfrom\u001b[39;00m \u001b[38;5;21;01mdatetime\u001b[39;00m \u001b[38;5;28;01mimport\u001b[39;00m datetime\n\u001b[0;32m      2\u001b[0m \u001b[38;5;66;03m# import pandas as pd\u001b[39;00m\n\u001b[0;32m      3\u001b[0m \u001b[38;5;66;03m# import logging\u001b[39;00m\n\u001b[0;32m      4\u001b[0m \u001b[38;5;66;03m# import random\u001b[39;00m\n\u001b[1;32m----> 6\u001b[0m \u001b[38;5;28;01mimport\u001b[39;00m \u001b[38;5;21;01mapp\u001b[39;00m\n\u001b[0;32m      7\u001b[0m \u001b[38;5;28;01mfrom\u001b[39;00m \u001b[38;5;21;01mapp\u001b[39;00m \u001b[38;5;28;01mimport\u001b[39;00m appbuilder, db\n\u001b[0;32m      8\u001b[0m \u001b[38;5;28;01mfrom\u001b[39;00m \u001b[38;5;21;01mapp\u001b[39;00m\u001b[38;5;21;01m.\u001b[39;00m\u001b[38;5;21;01mmodels\u001b[39;00m \u001b[38;5;28;01mimport\u001b[39;00m Contact, ContactGroup, Gender, Country, Student, StudentSemester, StudentLevel\n",
      "\u001b[1;31mModuleNotFoundError\u001b[0m: No module named 'app'"
     ]
    }
   ],
   "source": [
    "from datetime import datetime\n",
    "# import pandas as pd\n",
    "# import logging\n",
    "# import random\n",
    "\n",
    "import app\n",
    "from app import appbuilder, db\n",
    "from app.models import Contact, ContactGroup, Gender, Country, Student, StudentSemester, StudentLevel\n",
    "\n",
    "# log = logging.getLogger(__name__)"
   ]
  },
  {
   "cell_type": "code",
   "execution_count": null,
   "metadata": {},
   "outputs": [],
   "source": [
    "for s in db.session.query(Student).all():\n",
    "    print (s.id, s.name_en)"
   ]
  },
  {
   "cell_type": "code",
   "execution_count": null,
   "metadata": {},
   "outputs": [],
   "source": [
    "for s in db.session.query(Student).all():\n",
    "    print (s.id, s.name_en, s.status)"
   ]
  },
  {
   "cell_type": "code",
   "execution_count": null,
   "metadata": {},
   "outputs": [],
   "source": [
    "for s in db.session.query(StudentSemester).all():\n",
    "    print (s.student_id, s.student_name)\n",
    "    print(s.student_id, s.student_level.level_id)\n",
    "    # for l in s.student_level:\n",
    "        # print (l )"
   ]
  },
  {
   "cell_type": "code",
   "execution_count": null,
   "metadata": {},
   "outputs": [],
   "source": [
    "for s in db.session.query(StudentLevel).all():\n",
    "    print (s.student_name, '\\n', s.student_id, s.level, s.level_id )\n"
   ]
  },
  {
   "cell_type": "code",
   "execution_count": null,
   "metadata": {},
   "outputs": [],
   "source": [
    "import mimetypes\n",
    "mimetypes.init()\n",
    "mimetypes.knownfiles\n",
    "# return mimtype of a given file type\n",
    "mimetypes.types_map['.txt']"
   ]
  },
  {
   "cell_type": "code",
   "execution_count": null,
   "metadata": {},
   "outputs": [],
   "source": [
    "class X:\n",
    "    a=10\n",
    "    b=20\n",
    "\n",
    "\n",
    "print (vars(X))\n",
    "\n",
    "# for a in vars(X):\n",
    "#     print (a, a.value())\n",
    "\n",
    "d = X.__dict__\n",
    "for k, v in d.items():\n",
    "    if not k.startswith('_'):\n",
    "        print (k, 'value:',v)\n",
    "\n",
    "for k, v in X.__dict__.items():\n",
    "    if not k.startswith('_'):\n",
    "        print (f\"\\nfield:{k}, value: {v}\")"
   ]
  },
  {
   "cell_type": "code",
   "execution_count": null,
   "metadata": {},
   "outputs": [],
   "source": []
  }
 ],
 "metadata": {
  "kernelspec": {
   "display_name": "venv",
   "language": "python",
   "name": "python3"
  },
  "language_info": {
   "codemirror_mode": {
    "name": "ipython",
    "version": 3
   },
   "file_extension": ".py",
   "mimetype": "text/x-python",
   "name": "python",
   "nbconvert_exporter": "python",
   "pygments_lexer": "ipython3",
   "version": "3.11.5"
  }
 },
 "nbformat": 4,
 "nbformat_minor": 2
}
