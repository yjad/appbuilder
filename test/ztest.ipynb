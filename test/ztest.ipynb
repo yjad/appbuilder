{
 "cells": [
  {
   "cell_type": "code",
   "execution_count": null,
   "metadata": {},
   "outputs": [],
   "source": [
    "from datetime import datetime\n",
    "import pandas as pd\n",
    "import logging\n",
    "import random\n",
    "\n",
    "from app import appbuilder, db\n",
    "from app.models import Contact, ContactGroup, Gender, Country\n",
    "\n",
    "log = logging.getLogger(__name__)\n",
    "\n",
    "fn = r\"C:\\Yahia\\Home\\Yahia-Dev\\Python\\appbuilder\\test\\country_code.csv\"\n",
    "# with open(fn, \"rt\") as f:\n",
    "#     country_list = [x.strip().split(',') for x in f.readlines()]\n",
    "\n",
    "cnty_df = pd.read_csv(\"./country_code.csv\")\n",
    "\n",
    "for index, row in df.iterrows():\n",
    "  print(row['c1'], row['c2'])\n",
    "# for i,line in enumerate(country_list): # skip header line\n",
    "    c = Country()\n",
    "    c.id = index\n",
    "    c.country = row['country']\n",
    "    c.alpha_2_code = line[1]\n",
    "    c.alpha_3_code = line[2]\n",
    "    c.un_code = line[3]\n",
    "\n",
    "    db.session.add(c)\n",
    "    try:\n",
    "        db.session.commit()\n",
    "        print(\"inserted\", c)\n",
    "    except Exception as e:\n",
    "        log.error(\"Contact creation error: %s\", e)\n",
    "        db.session.rollback()\n"
   ]
  },
  {
   "cell_type": "code",
   "execution_count": null,
   "metadata": {},
   "outputs": [],
   "source": [
    "fn = r\"C:\\Yahia\\Home\\Yahia-Dev\\Python\\appbuilder\\test\\country_code.csv\"\n",
    "# with open(fn, \"rt\") as f:\n",
    "#     country_list = [x.strip().split(',') for x in f.readlines()]\n",
    "\n",
    "url = \"https://www.nationsonline.org/oneworld/country_code_list.htm\"\n",
    "# cnty_df = pd.read_csv(fn)\n",
    "cnty_df = pd.read_html(url)\n"
   ]
  },
  {
   "cell_type": "code",
   "execution_count": null,
   "metadata": {},
   "outputs": [],
   "source": [
    "cnty_df.columns"
   ]
  },
  {
   "cell_type": "code",
   "execution_count": null,
   "metadata": {},
   "outputs": [],
   "source": [
    "for index, row in cnty_df.iterrows():\n",
    "    c = Country()\n",
    "    c.id = index\n",
    "    c.country = row['Country']\n",
    "    c.alpha_2_code = row['Alpha 2']\n",
    "    c.alpha_3_code = row['Alpha 3 code']\n",
    "    c.un_code = row[ 'UN Code']\n",
    "\n",
    "    db.session.add(c)\n",
    "    try:\n",
    "        db.session.commit()\n",
    "        print(\"inserted\", c)\n",
    "    except Exception as e:\n",
    "        log.error(\"Contact creation error: %s\", e)\n",
    "        db.session.rollback()"
   ]
  }
 ],
 "metadata": {
  "kernelspec": {
   "display_name": "venv",
   "language": "python",
   "name": "python3"
  },
  "language_info": {
   "codemirror_mode": {
    "name": "ipython",
    "version": 3
   },
   "file_extension": ".py",
   "mimetype": "text/x-python",
   "name": "python",
   "nbconvert_exporter": "python",
   "pygments_lexer": "ipython3",
   "version": "3.11.4"
  }
 },
 "nbformat": 4,
 "nbformat_minor": 2
}
