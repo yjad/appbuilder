{
 "cells": [
  {
   "cell_type": "code",
   "execution_count": null,
   "metadata": {},
   "outputs": [],
   "source": [
    "from datetime import datetime\n",
    "# import pandas as pd\n",
    "# import logging\n",
    "# import random\n",
    "\n",
    "import app\n",
    "from app import appbuilder, db\n",
    "from app.models import Contact, ContactGroup, Gender, Country, Student, StudentSemester, StudentLevel\n",
    "\n",
    "# log = logging.getLogger(__name__)"
   ]
  },
  {
   "cell_type": "code",
   "execution_count": null,
   "metadata": {},
   "outputs": [],
   "source": [
    "for s in db.session.query(Student).all():\n",
    "    print (s.id, s.name_en)"
   ]
  },
  {
   "cell_type": "code",
   "execution_count": null,
   "metadata": {},
   "outputs": [],
   "source": [
    "for s in db.session.query(Student).all():\n",
    "    print (s.id, s.name_en, s.status)"
   ]
  },
  {
   "cell_type": "code",
   "execution_count": null,
   "metadata": {},
   "outputs": [],
   "source": [
    "for s in db.session.query(StudentSemester).all():\n",
    "    print (s.student_id, s.student_name)\n",
    "    print(s.student_id, s.student_level.level_id)\n",
    "    # for l in s.student_level:\n",
    "        # print (l )"
   ]
  },
  {
   "cell_type": "code",
   "execution_count": null,
   "metadata": {},
   "outputs": [],
   "source": [
    "for s in db.session.query(StudentLevel).all():\n",
    "    print (s.student_name, '\\n', s.student_id, s.level, s.level_id )\n"
   ]
  },
  {
   "cell_type": "code",
   "execution_count": null,
   "metadata": {},
   "outputs": [],
   "source": []
  }
 ],
 "metadata": {
  "kernelspec": {
   "display_name": "venv",
   "language": "python",
   "name": "python3"
  },
  "language_info": {
   "codemirror_mode": {
    "name": "ipython",
    "version": 3
   },
   "file_extension": ".py",
   "mimetype": "text/x-python",
   "name": "python",
   "nbconvert_exporter": "python",
   "pygments_lexer": "ipython3",
   "version": "3.11.4"
  }
 },
 "nbformat": 4,
 "nbformat_minor": 2
}
